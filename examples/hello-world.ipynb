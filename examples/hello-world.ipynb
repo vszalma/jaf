{
  "cells": [
    {
      "cell_type": "markdown",
      "metadata": {
        "papermill": {
          "exception": false,
          "start_time": "2022-03-07T19:38:03.531201",
          "end_time": "2022-03-07T19:38:03.534191",
          "duration": 0.00299,
          "status": "completed"
        },
        "tags": []
      },
      "source": "# Simple input notebook with parameters",
      "id": "45700088"
    },
    {
      "cell_type": "code",
      "execution_count": 1,
      "metadata": {
        "execution": {
          "iopub.status.busy": "2022-03-07T19:38:03.539510Z",
          "iopub.execute_input": "2022-03-07T19:38:03.539925Z",
          "iopub.status.idle": "2022-03-07T19:38:03.544001Z",
          "shell.execute_reply": "2022-03-07T19:38:03.543732Z"
        },
        "papermill": {
          "exception": false,
          "start_time": "2022-03-07T19:38:03.536615",
          "end_time": "2022-03-07T19:38:03.544934",
          "duration": 0.008319,
          "status": "completed"
        },
        "tags": [
          "parameters"
        ]
      },
      "outputs": [],
      "source": "msg = None",
      "id": "9574b1f0"
    },
    {
      "id": "96013914",
      "cell_type": "code",
      "metadata": {
        "tags": [
          "injected-parameters"
        ],
        "papermill": {
          "exception": false,
          "start_time": "2022-03-07T19:38:03.547115",
          "end_time": "2022-03-07T19:38:03.552112",
          "duration": 0.004997,
          "status": "completed"
        },
        "execution": {
          "iopub.status.busy": "2022-03-07T19:38:03.549564Z",
          "iopub.execute_input": "2022-03-07T19:38:03.549684Z",
          "iopub.status.idle": "2022-03-07T19:38:03.551251Z",
          "shell.execute_reply": "2022-03-07T19:38:03.550981Z"
        }
      },
      "execution_count": 2,
      "source": "# Parameters\nmsg = \"hellocool\"\n",
      "outputs": []
    },
    {
      "cell_type": "code",
      "execution_count": 3,
      "metadata": {
        "execution": {
          "iopub.status.busy": "2022-03-07T19:38:03.556804Z",
          "iopub.execute_input": "2022-03-07T19:38:03.556920Z",
          "iopub.status.idle": "2022-03-07T19:38:03.558881Z",
          "shell.execute_reply": "2022-03-07T19:38:03.558606Z"
        },
        "papermill": {
          "exception": false,
          "start_time": "2022-03-07T19:38:03.554287",
          "end_time": "2022-03-07T19:38:03.559733",
          "duration": 0.005446,
          "status": "completed"
        },
        "tags": []
      },
      "outputs": [
        {
          "output_type": "stream",
          "name": "stdout",
          "text": "hellocool\n"
        }
      ],
      "source": "print(msg)",
      "id": "100bef56"
    }
  ],
  "metadata": {
    "celltoolbar": "Tags",
    "hide_input": false,
    "kernelspec": {
      "display_name": "Python 3",
      "language": "python",
      "name": "python3"
    },
    "language_info": {
      "name": "python",
      "version": "3.8.5",
      "mimetype": "text/x-python",
      "codemirror_mode": {
        "name": "ipython",
        "version": 3
      },
      "pygments_lexer": "ipython3",
      "nbconvert_exporter": "python",
      "file_extension": ".py"
    },
    "papermill": {
      "duration": 1.535727,
      "end_time": "2022-03-07T19:38:03.677307",
      "environment_variables": {},
      "exception": null,
      "input_path": "https://raw.githubusercontent.com/nteract/papermill/main/binder/cli-simple/simple_output.ipynb",
      "output_path": "/tmp/output.ipynb",
      "parameters": {
        "msg": "hellocool"
      },
      "start_time": "2022-03-07T19:38:02.141580",
      "version": "2.1.3"
    },
    "orig_nbformat_minor": 1
  },
  "nbformat": 4,
  "nbformat_minor": 5
}
